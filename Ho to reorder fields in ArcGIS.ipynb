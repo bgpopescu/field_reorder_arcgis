{
 "cells": [
  {
   "cell_type": "markdown",
   "metadata": {},
   "source": [
    "# Ho to reorder fields in ArcGIS"
   ]
  },
  {
   "cell_type": "markdown",
   "metadata": {},
   "source": [
    "Sometimes, when you export a shape file to another geodatabase, the field names get disorganized. You can find below a code that allows you to organize your fields in the order that you want.\n",
    "\n",
    "Simply copy the first block of code and then, the second!"
   ]
  },
  {
   "cell_type": "markdown",
   "metadata": {},
   "source": [
    "## Step 1"
   ]
  },
  {
   "cell_type": "code",
   "execution_count": 1,
   "metadata": {
    "collapsed": true
   },
   "outputs": [],
   "source": [
    "#arcpy: Reorder Fields\n",
    "#Check more explanations about how this works on: http://joshwerts.com/blog/2014/04/17/arcpy-reorder-fields/\n",
    "\n",
    "import arcpy\n",
    "\n",
    "def reorder_fields(table, out_table, field_order, add_missing=True):\n",
    "    \"\"\"\n",
    "    Reorders fields in input featureclass/table\n",
    "    :table:         input table (fc, table, layer, etc)\n",
    "    :out_table:     output table (fc, table, layer, etc)\n",
    "    :field_order:   order of fields (objectid, shape not necessary)\n",
    "    :add_missing:   add missing fields to end if True (leave out if False)\n",
    "    -> path to output table\n",
    "    \"\"\"\n",
    "    existing_fields = arcpy.ListFields(table)\n",
    "    existing_field_names = [field.name for field in existing_fields]\n",
    "\n",
    "    existing_mapping = arcpy.FieldMappings()\n",
    "    existing_mapping.addTable(table)\n",
    "\n",
    "    new_mapping = arcpy.FieldMappings()\n",
    "\n",
    "    def add_mapping(field_name):\n",
    "        mapping_index = existing_mapping.findFieldMapIndex(field_name)\n",
    "\n",
    "        # required fields (OBJECTID, etc) will not be in existing mappings\n",
    "        # they are added automatically\n",
    "        if mapping_index != -1:\n",
    "            field_map = existing_mapping.fieldMappings[mapping_index]\n",
    "            new_mapping.addFieldMap(field_map)\n",
    "\n",
    "    # add user fields from field_order\n",
    "    for field_name in field_order:\n",
    "        if field_name not in existing_field_names:\n",
    "            raise Exception(\"Field: {0} not in {1}\".format(field_name, table))\n",
    "\n",
    "        add_mapping(field_name)\n",
    "\n",
    "    # add missing fields at end\n",
    "    if add_missing:\n",
    "        missing_fields = [f for f in existing_field_names if f not in field_order]\n",
    "        for field_name in missing_fields:\n",
    "            add_mapping(field_name)\n",
    "\n",
    "    # use merge with single input just to use new field_mappings\n",
    "    arcpy.Merge_management(table, out_table, new_mapping)\n",
    "    return out_table"
   ]
  },
  {
   "cell_type": "markdown",
   "metadata": {},
   "source": [
    "## Step 2"
   ]
  },
  {
   "cell_type": "code",
   "execution_count": 5,
   "metadata": {},
   "outputs": [
    {
     "data": {
      "text/plain": [
       "'C:\\\\Users\\\\bgpopescu\\\\Dropbox\\\\Chicago\\\\Sixth Year 2016-2017\\\\Organized Maps\\\\Tahrir Defterleri\\\\Albania\\\\Albania.gdb\\\\merge_town_city_orderedb'"
      ]
     },
     "execution_count": 5,
     "metadata": {},
     "output_type": "execute_result"
    }
   ],
   "source": [
    "#Usage:\n",
    "new_field_order = [\"osm_name\", \"turkish_name\", \"sure\", \"hane\", \"bive\", \"mucerred\", \"hasil\", \"bag_i_hassa\", \"vilayet\", \"nahiyet\", \"mezra\", \"zeytun\", \"hali\", \"ceviz_nut\", \"tut_mulberry\", \"timars\", \"observ\", \"timar_nr\", \"meyve_fruit\", \"koz_walnut\", \"asiyab_mill\", \"emrud_pear\", \"incir_fig\", \"draht_wine_jugs\", \"ID\", \"escar_tree\", \"name_timar_1\", \"position_1\", \"father_1\", \"christian_1\", \"shared_1\", \"number_inal_1\", \"total_hasil_1\", \"timar_hasil_1\", \"murde_1\", \"kecim_1\", \"cadir_1\", \"gunluk_1\", \"matbah_1\", \"burume_1\", \"oglan_1\", \"noker_1\", \"tenktur_1\", \"gulam_1\", \"cebelu_1\", \"hane_1\", \"bive_1\", \"mucerred_1\", \"hali_1\", \"bag_a_hassa_1\", \"zeytun_1\", \"incir_1\", \"ceviz_1\", \"tut_1\", \"emrud_1\", \"escar_1\", \"koz_1\", \"hassa_asiyab_1\", \"ceri_ese_1\", \"eskinci_1\", \"draht_wine_jugs_1\", \"name_timar_2\", \"position_2\", \"father_2\", \"christian_2\", \"shared_2\", \"number_inal_2\", \"total_hasil_2\", \"timar_hasil_2\", \"murde_2\", \"kecim_2\", \"cadir_2\", \"burume_2\", \"oglan_2\", \"tenktur_2\", \"gulam_2\", \"cebelu_2\", \"hane_2\", \"bive_2\", \"mucerred_2\", \"hali_2\", \"bag_a_hassa_2\", \"zeytun_2\", \"tut_2\", \"emrud_2\", \"escar_2\", \"koz_2\", \"name_timar_3\", \"position_3\", \"father_3\", \"christian_3\", \"shared_3\", \"number_inal_3\", \"total_hasil_3\", \"timar_hasil_3\", \"murde_3\", \"burume_3\", \"oglan_3\", \"gulam_3\", \"cebelu_3\", \"hane_3\", \"bive_3\", \"mucerred_3\", \"hali_3\", \"bag_a_hassa_3\", \"eskinci_3\", \"name_timar_4\", \"position_4\", \"father_4\", \"christian_4\", \"shared_4\", \"number_inal_4\", \"total_hasil_4\", \"timar_hasil_4\", \"murde_4\", \"burume_4\", \"tenktur_4\", \"gulam_4\", \"cebelu_4\", \"hane_4\", \"bive_4\", \"name_timar_5\", \"position_5\", \"father_5\", \"christian_5\", \"shared_5\", \"number_inal_5\", \"total_hasil_5\", \"timar_hasil_5\", \"burume_5\", \"tenktur_5\", \"gulam_5\", \"cebelu_5\", \"hane_5\", \"name_timar_6\", \"position_6\", \"father_6\", \"christian_6\", \"shared_6\", \"number_inal_6\", \"total_hasil_6\", \"timar_hasil_6\", \"murde_6\", \"gulam_6\", \"cebelu_6\", \"hane_6\", \"name_timar_7\", \"position_7\", \"father_7\", \"christian_7\", \"shared_7\", \"number_inal_7\", \"total_hasil_7\", \"timar_hasil_7\", \"gulam_7\", \"cebelu_7\", \"hane_7\", \"name_timar_8\", \"position_8\", \"father_8\", \"christian_8\", \"shared_8\", \"number_inal_8\", \"total_hasil_8\", \"timar_hasil_8\", \"burume_8\", \"tenktur_8\", \"gulam_8\", \"cebelu_8\", \"hane_8\", \"name_timar_9\", \"position_9\", \"father_9\", \"christian_9\", \"shared_9\", \"number_inal_9\", \"total_hasil_9\", \"timar_hasil_9\", \"gulam_9\", \"cebelu_9\", \"hane_9\"]\n",
    "\n",
    "path = r'C:\\Users\\bgpopescu\\Dropbox\\Chicago\\Sixth Year 2016-2017\\Organized Maps\\Tahrir Defterleri\\Albania\\Albania.gdb'\n",
    "in_fc= path + \"\\\\merge_town_city\"\n",
    "out_fc= path + \"\\\\merge_town_city_ordered\"\n",
    "reorder_fields(in_fc, out_fc, new_field_order)\n",
    "print \"Created new database with the organized field names\""
   ]
  },
  {
   "cell_type": "markdown",
   "metadata": {},
   "source": [
    "Original source: http://joshwerts.com/blog/2014/04/17/arcpy-reorder-fields/"
   ]
  }
 ],
 "metadata": {
  "kernelspec": {
   "display_name": "Python 2",
   "language": "python",
   "name": "python2"
  },
  "language_info": {
   "codemirror_mode": {
    "name": "ipython",
    "version": 2
   },
   "file_extension": ".py",
   "mimetype": "text/x-python",
   "name": "python",
   "nbconvert_exporter": "python",
   "pygments_lexer": "ipython2",
   "version": "2.7.13"
  }
 },
 "nbformat": 4,
 "nbformat_minor": 2
}
